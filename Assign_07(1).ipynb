{
 "cells": [
  {
   "cell_type": "code",
   "execution_count": null,
   "id": "8a7a8eb9",
   "metadata": {
    "tags": []
   },
   "outputs": [],
   "source": [
    "import nltk\n",
    "#https://towardsdatascience.com/intro-to-nltk-for-nlp-with-python-87da6670dde"
   ]
  },
  {
   "cell_type": "code",
   "execution_count": 9,
   "id": "d0bfa43a",
   "metadata": {
    "tags": []
   },
   "outputs": [
    {
     "name": "stdout",
     "output_type": "stream",
     "text": [
      "showing info https://raw.githubusercontent.com/nltk/nltk_data/gh-pages/index.xml\n"
     ]
    },
    {
     "data": {
      "text/plain": [
       "True"
      ]
     },
     "execution_count": 9,
     "metadata": {},
     "output_type": "execute_result"
    }
   ],
   "source": [
    "nltk.download()"
   ]
  },
  {
   "cell_type": "code",
   "execution_count": 15,
   "id": "4dd77c8e-19a3-4373-8e84-eecf289ce240",
   "metadata": {},
   "outputs": [],
   "source": [
    "import nltk\n",
    "import pandas as pd\n",
    "import re\n",
    "from nltk.tokenize import sent_tokenize, word_tokenize\n",
    "from nltk.corpus import stopwords\n",
    "from nltk.stem import PorterStemmer, WordNetLemmatizer\n",
    "from sklearn.feature_extraction.text import TfidfVectorizer\n",
    "import math"
   ]
  },
  {
   "cell_type": "code",
   "execution_count": 16,
   "id": "faf73615-98d6-4fca-9633-a3ea4d64e4c5",
   "metadata": {},
   "outputs": [
    {
     "name": "stderr",
     "output_type": "stream",
     "text": [
      "[nltk_data] Downloading package punkt to\n",
      "[nltk_data]     C:\\Users\\shrav\\AppData\\Roaming\\nltk_data...\n",
      "[nltk_data]   Unzipping tokenizers\\punkt.zip.\n",
      "[nltk_data] Downloading package stopwords to\n",
      "[nltk_data]     C:\\Users\\shrav\\AppData\\Roaming\\nltk_data...\n",
      "[nltk_data]   Unzipping corpora\\stopwords.zip.\n",
      "[nltk_data] Downloading package wordnet to\n",
      "[nltk_data]     C:\\Users\\shrav\\AppData\\Roaming\\nltk_data...\n",
      "[nltk_data] Downloading package averaged_perceptron_tagger to\n",
      "[nltk_data]     C:\\Users\\shrav\\AppData\\Roaming\\nltk_data...\n",
      "[nltk_data]   Package averaged_perceptron_tagger is already up-to-\n",
      "[nltk_data]       date!\n"
     ]
    },
    {
     "data": {
      "text/plain": [
       "True"
      ]
     },
     "execution_count": 16,
     "metadata": {},
     "output_type": "execute_result"
    }
   ],
   "source": [
    "# Step 1: Download the required NLTK packages\n",
    "nltk.download('punkt')\n",
    "nltk.download('stopwords')\n",
    "nltk.download('wordnet')\n",
    "nltk.download('averaged_perceptron_tagger')\n"
   ]
  },
  {
   "cell_type": "code",
   "execution_count": 17,
   "id": "39207cc6-aa66-438b-9abd-5f22e0b985ff",
   "metadata": {},
   "outputs": [],
   "source": [
    "# Step 2: Initialize the text\n",
    "text = \"Tokenization is the first step in text analytics. The process of breaking down a text paragraph into smaller chunks such as words or sentences is called Tokenization.\"\n"
   ]
  },
  {
   "cell_type": "code",
   "execution_count": 18,
   "id": "fe7be35c-bae2-4d1f-9b76-7683b8ebcaec",
   "metadata": {},
   "outputs": [
    {
     "name": "stdout",
     "output_type": "stream",
     "text": [
      "Sentence Tokenization:\n",
      "['Tokenization is the first step in text analytics.', 'The process of breaking down a text paragraph into smaller chunks such as words or sentences is called Tokenization.']\n"
     ]
    }
   ],
   "source": [
    "# Step 3: Perform Tokenization\n",
    "# Sentence Tokenization\n",
    "tokenized_text = sent_tokenize(text)\n",
    "print(\"Sentence Tokenization:\")\n",
    "print(tokenized_text)\n"
   ]
  },
  {
   "cell_type": "code",
   "execution_count": 19,
   "id": "7ca7d229-77cd-4500-a440-2c8febf86ffd",
   "metadata": {},
   "outputs": [
    {
     "name": "stdout",
     "output_type": "stream",
     "text": [
      "\n",
      "Word Tokenization:\n",
      "['Tokenization', 'is', 'the', 'first', 'step', 'in', 'text', 'analytics', '.', 'The', 'process', 'of', 'breaking', 'down', 'a', 'text', 'paragraph', 'into', 'smaller', 'chunks', 'such', 'as', 'words', 'or', 'sentences', 'is', 'called', 'Tokenization', '.']\n"
     ]
    }
   ],
   "source": [
    "# Word Tokenization\n",
    "tokenized_word = word_tokenize(text)\n",
    "print(\"\\nWord Tokenization:\")\n",
    "print(tokenized_word)\n"
   ]
  },
  {
   "cell_type": "code",
   "execution_count": 23,
   "id": "8ef29ac4-41e3-4714-8a04-ac2d8696a3a1",
   "metadata": {},
   "outputs": [
    {
     "name": "stdout",
     "output_type": "stream",
     "text": [
      "\n",
      "Stop Words:\n",
      "{'has', 'myself', 'out', 'is', 'in', 'too', \"hasn't\", 'ours', 'whom', 'i', 'during', 'aren', 'under', 'where', 'then', 'being', 've', 'each', 'that', \"she's\", 'me', 'he', 's', 'above', 'now', 'own', 'be', 'some', 'm', 'ain', 'if', \"doesn't\", \"weren't\", 'his', 'over', 'don', 'll', \"wouldn't\", 'o', 'himself', 'here', 'there', \"hadn't\", 'shouldn', 'didn', 'weren', 're', \"needn't\", 'your', 'not', 'hasn', 'him', 'what', \"won't\", 'with', 't', 'do', 'again', 'themselves', 'hadn', 'its', 'ourselves', 'up', 'should', 'nor', 'between', \"it's\", 'other', \"couldn't\", \"isn't\", 'on', 'those', 'below', 'yourselves', 'am', 'my', 'to', 'does', 'can', \"don't\", \"mightn't\", \"you'll\", 'after', 'their', 'herself', 'shan', 'so', 'both', 'most', 'you', 'more', 'have', \"that'll\", 'why', 'because', 'against', 'than', 'just', \"wasn't\", 'mightn', 'very', 'they', 'by', 'had', 'were', 'itself', 'these', 'having', 'y', 'haven', 'did', 'before', 'about', 'it', 'when', 'as', 'of', 'yourself', 'will', \"you're\", 'at', 'further', 'she', 'into', 'how', 'we', 'all', 'theirs', 'off', 'same', 'who', 'but', 'the', \"didn't\", 'wouldn', 'are', 'ma', 'needn', 'wasn', 'won', 'down', 'from', \"haven't\", 'any', 'd', 'until', 'only', 'yours', 'doing', 'no', \"should've\", 'them', 'through', 'couldn', \"you've\", \"shouldn't\", 'for', 'and', 'mustn', 'her', \"aren't\", 'this', 'a', \"shan't\", 'hers', 'while', 'or', 'once', 'which', 'isn', 'few', 'an', 'was', 'such', 'our', \"mustn't\", \"you'd\", 'been', 'doesn'}\n",
      "\n",
      "Tokenized Sentence: ['tokenization', 'is', 'the', 'first', 'step', 'in', 'text', 'analytics', 'the', 'process', 'of', 'breaking', 'down', 'a', 'text', 'paragraph', 'into', 'smaller', 'chunks', 'such', 'as', 'words', 'or', 'sentences', 'is', 'called', 'tokenization']\n",
      "Filtered Sentence: ['tokenization', 'first', 'step', 'text', 'analytics', 'process', 'breaking', 'text', 'paragraph', 'smaller', 'chunks', 'words', 'sentences', 'called', 'tokenization']\n"
     ]
    }
   ],
   "source": [
    "\n",
    "# Step 4: Removing Punctuations and Stop Words\n",
    "stop_words = set(stopwords.words(\"english\"))\n",
    "print(\"\\nStop Words:\")\n",
    "print(stop_words)\n",
    "\n",
    "text = re.sub('[^a-zA-Z]', ' ', text)\n",
    "tokens = word_tokenize(text.lower())\n",
    "filtered_text = [w for w in tokens if w not in stop_words]\n",
    "print(\"\\nTokenized Sentence:\", tokens)\n",
    "print(\"Filtered Sentence:\", filtered_text)\n"
   ]
  },
  {
   "cell_type": "code",
   "execution_count": 24,
   "id": "8fbe4451-b64b-404b-9641-421259e83dc7",
   "metadata": {},
   "outputs": [
    {
     "name": "stdout",
     "output_type": "stream",
     "text": [
      "\n",
      "Stemmed Words:\n",
      "['token', 'first', 'step', 'text', 'analyt', 'process', 'break', 'text', 'paragraph', 'smaller', 'chunk', 'word', 'sentenc', 'call', 'token']\n"
     ]
    }
   ],
   "source": [
    "# Step 5: Perform Stemming\n",
    "stemmer = PorterStemmer()\n",
    "stemmed_words = [stemmer.stem(w) for w in filtered_text]\n",
    "print(\"\\nStemmed Words:\")\n",
    "print(stemmed_words)\n"
   ]
  },
  {
   "cell_type": "code",
   "execution_count": 25,
   "id": "b4d4e1c6-4f2b-42ff-9ae1-8995369ee9ca",
   "metadata": {},
   "outputs": [
    {
     "name": "stdout",
     "output_type": "stream",
     "text": [
      "\n",
      "Lemmatized Words:\n",
      "['tokenization', 'first', 'step', 'text', 'analytics', 'process', 'breaking', 'text', 'paragraph', 'smaller', 'chunk', 'word', 'sentence', 'called', 'tokenization']\n"
     ]
    }
   ],
   "source": [
    "# Step 6: Perform Lemmatization\n",
    "lemmatizer = WordNetLemmatizer()\n",
    "lemmatized_words = [lemmatizer.lemmatize(w) for w in filtered_text]\n",
    "print(\"\\nLemmatized Words:\")\n",
    "print(lemmatized_words)\n"
   ]
  },
  {
   "cell_type": "code",
   "execution_count": 26,
   "id": "7488bd67-b48e-440d-9f11-4ef1d4703d1d",
   "metadata": {},
   "outputs": [
    {
     "name": "stdout",
     "output_type": "stream",
     "text": [
      "\n",
      "POS Tagging:\n",
      "[('tokenization', 'NN'), ('first', 'RB'), ('step', 'VB'), ('text', 'JJ'), ('analytics', 'NNS'), ('process', 'NN'), ('breaking', 'VBG'), ('text', 'NN'), ('paragraph', 'NN'), ('smaller', 'JJR'), ('chunks', 'NNS'), ('words', 'NNS'), ('sentences', 'NNS'), ('called', 'VBD'), ('tokenization', 'NN')]\n"
     ]
    }
   ],
   "source": [
    "# Step 7: Apply POS Tagging to text\n",
    "pos_tags = nltk.pos_tag(filtered_text)\n",
    "print(\"\\nPOS Tagging:\")\n",
    "print(pos_tags)\n"
   ]
  },
  {
   "cell_type": "code",
   "execution_count": 28,
   "id": "ce5ba93c-773b-4777-9835-6112b34e4160",
   "metadata": {},
   "outputs": [],
   "source": [
    "# Step 8: Create representation of document by calculating TF-IDF\n",
    "# Initialize the Documents\n",
    "documentA = 'Jupiter is the largest Planet'\n",
    "documentB = 'Mars is the fourth planet from the Sun'"
   ]
  },
  {
   "cell_type": "code",
   "execution_count": 29,
   "id": "968fa543-1aa9-4dec-b36d-14733fdc4dd8",
   "metadata": {},
   "outputs": [],
   "source": [
    "# Create Bag of Words (BoW) for Document A and B\n",
    "bagOfWordsA = documentA.split(' ')\n",
    "bagOfWordsB = documentB.split(' ')"
   ]
  },
  {
   "cell_type": "code",
   "execution_count": 30,
   "id": "553bdbda-9f2a-4275-887c-fa8f18de1e8a",
   "metadata": {},
   "outputs": [],
   "source": [
    "# Create Collection of Unique words from Document A and B\n",
    "uniqueWords = set(bagOfWordsA).union(set(bagOfWordsB))"
   ]
  },
  {
   "cell_type": "code",
   "execution_count": 31,
   "id": "5e54ff98-e0a6-4483-bcab-6e4081e9d8c9",
   "metadata": {},
   "outputs": [],
   "source": [
    "# Create a dictionary of words and their occurrence for each document in the corpus\n",
    "numOfWordsA = dict.fromkeys(uniqueWords, 0)\n",
    "for word in bagOfWordsA:\n",
    "    numOfWordsA[word] += 1\n",
    "numOfWordsB = dict.fromkeys(uniqueWords, 0)\n",
    "for word in bagOfWordsB:\n",
    "    numOfWordsB[word] += 1\n"
   ]
  },
  {
   "cell_type": "code",
   "execution_count": 32,
   "id": "bb34f272-5bf4-439b-b537-b8fdc67e4a4b",
   "metadata": {},
   "outputs": [],
   "source": [
    "# Compute the term frequency for each of our documents\n",
    "def computeTF(wordDict, bagOfWords):\n",
    "    tfDict = {}\n",
    "    bagOfWordsCount = len(bagOfWords)\n",
    "    for word, count in wordDict.items():\n",
    "        tfDict[word] = count / float(bagOfWordsCount)\n",
    "    return tfDict\n",
    "\n",
    "tfA = computeTF(numOfWordsA, bagOfWordsA)\n",
    "tfB = computeTF(numOfWordsB, bagOfWordsB)"
   ]
  },
  {
   "cell_type": "code",
   "execution_count": 33,
   "id": "9ab0451a-487a-4567-b974-e5a6aff1d60b",
   "metadata": {},
   "outputs": [],
   "source": [
    "# Compute the term Inverse Document Frequency\n",
    "def computeIDF(documents):\n",
    "    N = len(documents)\n",
    "    idfDict = dict.fromkeys(documents[0].keys(), 0)\n",
    "    for document in documents:\n",
    "        for word, val in document.items():\n",
    "            if val > 0:\n",
    "                idfDict[word] += 1\n",
    "    for word, val in idfDict.items():\n",
    "        idfDict[word] = math.log(N / float(val))\n",
    "    return idfDict\n",
    "\n",
    "idfs = computeIDF([numOfWordsA, numOfWordsB])"
   ]
  },
  {
   "cell_type": "code",
   "execution_count": 34,
   "id": "32c1b65c-c6a9-487f-a7d2-cd53a350b433",
   "metadata": {},
   "outputs": [],
   "source": [
    "\n",
    "# Compute the term TF-IDF for all words\n",
    "def computeTFIDF(tfBagOfWords, idfs):\n",
    "    tfidf = {}\n",
    "    for word, val in tfBagOfWords.items():\n",
    "        tfidf[word] = val * idfs[word]\n",
    "    return tfidf\n",
    "\n",
    "tfidfA = computeTFIDF(tfA, idfs)\n",
    "tfidfB = computeTFIDF(tfB, idfs)\n",
    "\n",
    "\n"
   ]
  },
  {
   "cell_type": "code",
   "execution_count": 35,
   "id": "f29b5871-03a5-4ce3-ab33-3fe89c65e0d7",
   "metadata": {},
   "outputs": [
    {
     "name": "stdout",
     "output_type": "stream",
     "text": [
      "\n",
      "TF-IDF:\n",
      "       Mars   is   largest    planet  the    Planet    fourth       Sun  \\\n",
      "0  0.000000  0.0  0.138629  0.000000  0.0  0.138629  0.000000  0.000000   \n",
      "1  0.086643  0.0  0.000000  0.086643  0.0  0.000000  0.086643  0.086643   \n",
      "\n",
      "    Jupiter      from  \n",
      "0  0.138629  0.000000  \n",
      "1  0.000000  0.086643  \n"
     ]
    }
   ],
   "source": [
    "# Display the TF-IDF as DataFrame\n",
    "df = pd.DataFrame([tfidfA, tfidfB])\n",
    "print(\"\\nTF-IDF:\")\n",
    "print(df)"
   ]
  },
  {
   "cell_type": "code",
   "execution_count": null,
   "id": "30870f8e-c05c-4436-aa53-08ad45203d93",
   "metadata": {},
   "outputs": [],
   "source": []
  }
 ],
 "metadata": {
  "kernelspec": {
   "display_name": "Python 3 (ipykernel)",
   "language": "python",
   "name": "python3"
  },
  "language_info": {
   "codemirror_mode": {
    "name": "ipython",
    "version": 3
   },
   "file_extension": ".py",
   "mimetype": "text/x-python",
   "name": "python",
   "nbconvert_exporter": "python",
   "pygments_lexer": "ipython3",
   "version": "3.11.5"
  }
 },
 "nbformat": 4,
 "nbformat_minor": 5
}
